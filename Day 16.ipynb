{
 "cells": [
  {
   "cell_type": "markdown",
   "metadata": {},
   "source": [
    "# Problem solving and programming\n",
    "\n",
    "## Day no - 16\n",
    "\n",
    "## Date- 14/May/2019"
   ]
  },
  {
   "cell_type": "markdown",
   "metadata": {},
   "source": [
    "### day objectives\n",
    "    *objective 1\n",
    "    *objective 2\n",
    "    *objective 3"
   ]
  },
  {
   "cell_type": "markdown",
   "metadata": {},
   "source": [
    "### problem 1\n",
    "\n",
    "#### problem statement\n",
    "    Define a function to find the the outer elements of an N x M matrix.\n",
    "\n",
    "#### constraints\n",
    "\n",
    "####  Test cases\n",
    "    * outerMatrix([[1, 2, 3], [4, 5, 6], [7, 8, 9], [10, 11, 12]] -> 1 2 3 6 9 12 11 10 7 4"
   ]
  },
  {
   "cell_type": "code",
   "execution_count": 1,
   "metadata": {},
   "outputs": [
    {
     "name": "stdout",
     "output_type": "stream",
     "text": [
      "1 2 3 6 9 12 11 10 7 4 "
     ]
    }
   ],
   "source": [
    "\n",
    "def rowPrint(a,r,rs,nc):\n",
    "    for i in range(rs,nc):\n",
    "        print(a[r][i],end=' ')\n",
    "        \n",
    "def columnPrint(a,c,cs,nr):\n",
    "    for i in range(cs,nr):\n",
    "        print(a[i][c],end=' ')\n",
    "    \n",
    "def reverserowPrint(a,r,rs,nc):\n",
    "    for i in range(nc-rs-1,-1,-1):\n",
    "        print(a[r][i],end=' ')\n",
    "    \n",
    "def reversecolumnPrint(a,c,cstr,cstp,nr):\n",
    "    for i in range(nr-1-cstr,cstp,-1):\n",
    "        print(a[i][c],end=' ')\n",
    "        \n",
    "\n",
    "def outerMatrix(m1,nr,nc):\n",
    "    \n",
    "    rowPrint(m1,0,0,nc)\n",
    "    columnPrint(m1,nc-1,1,nr)\n",
    "    reverserowPrint(m1,nr-1,nc-2,nc)\n",
    "    reversecolumnPrint(m1,0,nr-3,0,nr)               \n",
    "                    \n",
    "                    \n",
    "                    \n",
    "m1=[[1,2,3],[4,5,6],[7,8,9],[10,11,12]]\n",
    "#rowPrint(m1,1,3)\n",
    "#reversecolumnPrint(m1,0,0,3)\n",
    "outerMatrix(m1,4,3)"
   ]
  },
  {
   "cell_type": "markdown",
   "metadata": {},
   "source": [
    "### problem 2\n",
    "\n",
    "#### problem statement\n",
    "    For a given integer N. Find the least positive integer X made up of only 9's and 0's, such that, X is a multiple of N. X is made up of one or more occurrences of 9 and zero or more occurrences of 0.\n",
    "\n",
    "#### constraints\n",
    "\n",
    "####  Test cases\n",
    "    * Multiple( 5 ) -> 90\n",
    "    * Multiple ( 7 ) -> 9009\n",
    "    * Multiple( 1 ) -> 9"
   ]
  },
  {
   "cell_type": "code",
   "execution_count": 2,
   "metadata": {},
   "outputs": [
    {
     "name": "stdout",
     "output_type": "stream",
     "text": [
      "9\n"
     ]
    }
   ],
   "source": [
    "from queue import Queue\n",
    "MAX_COUNT = 10000\n",
    "vec = []\n",
    "n = 1\n",
    "def generateNumbersUtil():\n",
    "    global vec\n",
    "\n",
    "    q = Queue()\n",
    "    q.put(\"9\")\n",
    "\n",
    "    for count in range(MAX_COUNT, -1, -1):\n",
    "        s1 = q.queue[0]\n",
    "        q.get()\n",
    "    \n",
    "        vec.append(s1)\n",
    "        s2 = s1\n",
    "        s1 += \"0\"\n",
    "        q.put(s1)\n",
    "        s2 += \"9\"\n",
    "        q.put(s2)\n",
    "def findSmallestMultiple(n):\n",
    "    \n",
    "    global vec\n",
    "    for i in range(len(vec)):\n",
    "        if (int(vec[i]) % n == 0):\n",
    "            return vec[i]\n",
    "    \n",
    "generateNumbersUtil()\n",
    "\n",
    "print(findSmallestMultiple(n))"
   ]
  }
 ],
 "metadata": {
  "kernelspec": {
   "display_name": "Python 3",
   "language": "python",
   "name": "python3"
  },
  "language_info": {
   "codemirror_mode": {
    "name": "ipython",
    "version": 3
   },
   "file_extension": ".py",
   "mimetype": "text/x-python",
   "name": "python",
   "nbconvert_exporter": "python",
   "pygments_lexer": "ipython3",
   "version": "3.7.3"
  }
 },
 "nbformat": 4,
 "nbformat_minor": 2
}
