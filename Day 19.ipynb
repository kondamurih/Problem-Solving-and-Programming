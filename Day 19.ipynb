{
 "cells": [
  {
   "cell_type": "code",
   "execution_count": 9,
   "metadata": {},
   "outputs": [
    {
     "ename": "SyntaxError",
     "evalue": "invalid syntax (<ipython-input-9-04ed3dd81e20>, line 2)",
     "output_type": "error",
     "traceback": [
      "\u001b[1;36m  File \u001b[1;32m\"<ipython-input-9-04ed3dd81e20>\"\u001b[1;36m, line \u001b[1;32m2\u001b[0m\n\u001b[1;33m    if(n > 21)\u001b[0m\n\u001b[1;37m              ^\u001b[0m\n\u001b[1;31mSyntaxError\u001b[0m\u001b[1;31m:\u001b[0m invalid syntax\n"
     ]
    }
   ],
   "source": [
    "def diff21(n):\n",
    "    if(n > 21)\n",
    "    return n - 21\n",
    "return (n - 21)*2\n",
    "print diff21(17)\n",
    "   "
   ]
  },
  {
   "cell_type": "code",
   "execution_count": 5,
   "metadata": {},
   "outputs": [
    {
     "name": "stdout",
     "output_type": "stream",
     "text": [
      "welcome\n"
     ]
    }
   ],
   "source": [
    "print(\"welcome\")"
   ]
  },
  {
   "cell_type": "code",
   "execution_count": 8,
   "metadata": {},
   "outputs": [
    {
     "name": "stdout",
     "output_type": "stream",
     "text": [
      "True\n",
      "True\n",
      "False\n"
     ]
    }
   ],
   "source": [
    "def near_hundred(n):\n",
    "    if(abs(100-n) < 11 or abs(200-n) < 11):\n",
    "        return True\n",
    "    return False\n",
    "print(near_hundred(93))\n",
    "print(near_hundred(90))\n",
    "print(near_hundred(89))"
   ]
  },
  {
   "cell_type": "code",
   "execution_count": null,
   "metadata": {},
   "outputs": [],
   "source": [
    "### Given a string ,print the alternative charcters in it\n",
    "alternate_char('welcome')---->wloe\n"
   ]
  },
  {
   "cell_type": "code",
   "execution_count": 17,
   "metadata": {},
   "outputs": [
    {
     "name": "stdout",
     "output_type": "stream",
     "text": [
      "wloe"
     ]
    }
   ],
   "source": [
    "def alternate_char(str):\n",
    "    for i in range(0,len(str), 2):\n",
    "        print(str[i],end='')        \n",
    "alternate_char(\"welcome\")  \n",
    "        \n"
   ]
  },
  {
   "cell_type": "code",
   "execution_count": 18,
   "metadata": {},
   "outputs": [
    {
     "name": "stdout",
     "output_type": "stream",
     "text": [
      "emoclew"
     ]
    }
   ],
   "source": [
    "def alternate_char(str):\n",
    "    for i in range(len(str)-1,-1,-1):\n",
    "        print(str[i],end='')        \n",
    "alternate_char(\"welcome\")  "
   ]
  },
  {
   "cell_type": "code",
   "execution_count": null,
   "metadata": {},
   "outputs": [],
   "source": [
    "###Given a string, we'll say that the front is the first 3 chars of the string. \n",
    "If the string length is less than 3, the front is whatever is there.\n",
    "Return a new string which is 3 copies of the front.\n",
    "\n",
    "front3('Java') → 'JavJavJav'\n",
    "front3('Chocolate') → 'ChoChoCho'\n",
    "front3('abc') → 'abcabcabc'\n"
   ]
  },
  {
   "cell_type": "code",
   "execution_count": 20,
   "metadata": {},
   "outputs": [
    {
     "name": "stdout",
     "output_type": "stream",
     "text": [
      "wel\n",
      "wel\n",
      "wel\n",
      "a\n",
      "a\n",
      "a\n"
     ]
    }
   ],
   "source": [
    "def front3(str):\n",
    "    for i in range(3):\n",
    "        print(str[:3])\n",
    "front3(\"welcome\")\n",
    "front3(\"a\")\n",
    "    \n"
   ]
  },
  {
   "cell_type": "code",
   "execution_count": 26,
   "metadata": {},
   "outputs": [
    {
     "name": "stdout",
     "output_type": "stream",
     "text": [
      "True\n",
      "True\n",
      "False\n"
     ]
    }
   ],
   "source": [
    "def makes10(a,b):\n",
    "    if(a==10 or b==10 or a+b==10):\n",
    "        return True\n",
    "    return False\n",
    "print(makes10(5,10))\n",
    "print(makes10(5,5))\n",
    "print(makes10(2,4))"
   ]
  },
  {
   "cell_type": "code",
   "execution_count": 32,
   "metadata": {},
   "outputs": [
    {
     "name": "stdout",
     "output_type": "stream",
     "text": [
      "not  gitam\n"
     ]
    }
   ],
   "source": [
    "def not_string(str):\n",
    "    if(str[:3]=='not'):\n",
    "        return str;\n",
    "    return \"not  \"+ str;\n",
    "print(not_string(\"gitam\"))\n",
    "    "
   ]
  },
  {
   "cell_type": "code",
   "execution_count": 37,
   "metadata": {},
   "outputs": [
    {
     "name": "stdout",
     "output_type": "stream",
     "text": [
      "3\n",
      "8\n"
     ]
    }
   ],
   "source": [
    "def sum_double(a, b):\n",
    "    sum=a+b\n",
    "    if(a==b):\n",
    "        return sum*2\n",
    "    return sum\n",
    "print(sum_double(1,2))\n",
    "print(sum_double(2,2))\n",
    "\n",
    "    \n",
    "    "
   ]
  },
  {
   "cell_type": "code",
   "execution_count": 42,
   "metadata": {},
   "outputs": [
    {
     "name": "stdout",
     "output_type": "stream",
     "text": [
      "True\n",
      "False\n",
      "False\n",
      "True\n"
     ]
    }
   ],
   "source": [
    "def monkey_trouble(a_smile, b_smile):\n",
    "    if(a_smile and b_smile or not a_smile and not b_smile ):\n",
    "        return True\n",
    "         \n",
    "    return False\n",
    "print(monkey_trouble(True,True))\n",
    "print(monkey_trouble(True,False))\n",
    "print(monkey_trouble(False,True))\n",
    "print(monkey_trouble(False,False))\n",
    "  "
   ]
  },
  {
   "cell_type": "code",
   "execution_count": 44,
   "metadata": {},
   "outputs": [
    {
     "data": {
      "text/plain": [
       "'aaa'"
      ]
     },
     "execution_count": 44,
     "metadata": {},
     "output_type": "execute_result"
    }
   ],
   "source": [
    "def front3(str): \n",
    "    res= ''\n",
    "    for i in range(3):\n",
    "        res=res+str[:3]\n",
    "    return res\n",
    "front3('a')\n",
    "                "
   ]
  },
  {
   "cell_type": "code",
   "execution_count": 45,
   "metadata": {},
   "outputs": [
    {
     "data": {
      "text/plain": [
       "'abcabcabc'"
      ]
     },
     "execution_count": 45,
     "metadata": {},
     "output_type": "execute_result"
    }
   ],
   "source": [
    "def front3(str):\n",
    "    return str[:3]*3\n",
    "front3('abc')"
   ]
  },
  {
   "cell_type": "code",
   "execution_count": 48,
   "metadata": {},
   "outputs": [
    {
     "name": "stdout",
     "output_type": "stream",
     "text": [
      "True\n",
      "False\n"
     ]
    }
   ],
   "source": [
    "def parrot_trouble(talking, hour):\n",
    "    if(hour<7 or hour>20):\n",
    "        return True\n",
    "    return False\n",
    "print(parrot_trouble(True,6))\n",
    "print(parrot_trouble(True,10))\n",
    "\n",
    "    \n",
    "    "
   ]
  },
  {
   "cell_type": "code",
   "execution_count": 8,
   "metadata": {},
   "outputs": [
    {
     "name": "stdout",
     "output_type": "stream",
     "text": [
      "True\n",
      "True\n",
      "True\n"
     ]
    }
   ],
   "source": [
    "def pos_neg(a, b, negative):\n",
    "    if((a<0 and b>0) or (a<0 and b<0) or (a>0 and b<0)):\n",
    "        return True\n",
    "    return False\n",
    "print(pos_neg(-2,-3,False))\n",
    "print(pos_neg(2,-3,False))\n",
    "print(pos_neg(-2,3,False))\n",
    "    "
   ]
  },
  {
   "cell_type": "code",
   "execution_count": null,
   "metadata": {},
   "outputs": [],
   "source": []
  }
 ],
 "metadata": {
  "kernelspec": {
   "display_name": "Python 3",
   "language": "python",
   "name": "python3"
  },
  "language_info": {
   "codemirror_mode": {
    "name": "ipython",
    "version": 3
   },
   "file_extension": ".py",
   "mimetype": "text/x-python",
   "name": "python",
   "nbconvert_exporter": "python",
   "pygments_lexer": "ipython3",
   "version": "3.7.3"
  }
 },
 "nbformat": 4,
 "nbformat_minor": 2
}
