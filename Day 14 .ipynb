{
 "cells": [
  {
   "cell_type": "markdown",
   "metadata": {},
   "source": [
    "# Problem solving and programming\n",
    "## Day no - 14\n",
    "## Date- 12/May/2019"
   ]
  },
  {
   "cell_type": "markdown",
   "metadata": {},
   "source": [
    "### Day objectives\n",
    "    *objective 1\n",
    "    *objective 2\n",
    "    *objective 3"
   ]
  },
  {
   "cell_type": "markdown",
   "metadata": {},
   "source": [
    "### problem 1\n",
    "\n",
    "#### problem statement\n",
    "    Define a function to find the average of all the outer elements of an N x M matrix.\n",
    "\n",
    "#### constraints\n",
    "\n",
    "####  Test cases\n",
    "    * averageOuterMatrix([[1, 2, 3], [4, 5, 6], [7, 8, 9], [10, 11, 12]] -> 4.5"
   ]
  },
  {
   "cell_type": "code",
   "execution_count": 3,
   "metadata": {},
   "outputs": [
    {
     "data": {
      "text/plain": [
       "6.5"
      ]
     },
     "execution_count": 3,
     "metadata": {},
     "output_type": "execute_result"
    }
   ],
   "source": [
    "def averageOuterMatrix(li):\n",
    "    sum=0\n",
    "    n = 0\n",
    "    for i in range(0,1):\n",
    "        for j in range(0,len(li[i])):\n",
    "            sum = sum + li[i][j]\n",
    "            n += 1\n",
    "\n",
    "    for i in range(len(li)-1 , len(li)):\n",
    "        for j in range(0,len(li[i])): \n",
    "            sum=sum + li[i][j]\n",
    "            n += 1\n",
    "    for i in range(1,len(li)-1):\n",
    "        for j in range(0,len(li[i]),2):\n",
    "            sum = sum + li[i][j]\n",
    "            n += 1\n",
    "    return sum/n\n",
    "averageOuterMatrix([[1, 2, 3], [4, 5, 6], [7, 8, 9], [10, 11, 12]])"
   ]
  },
  {
   "cell_type": "markdown",
   "metadata": {},
   "source": [
    "### problem 2\n",
    "\n",
    "#### problem statement\n",
    "     You are given n words. Some words may repeat. For each word, output its number of occurrences. The output order should correspond with the input order of appearance of the word. First line of input contains the total number of words n. Next n lines contain words that need to processed.\n",
    "\n",
    "    First line of the output should contain the total number distinct words. Second line of output must contain the frequency of words the same order of their appearance as in the input.\n",
    "\n",
    "#### constraints\n",
    "\n",
    "####  Test cases\n",
    "    * Sample Input : 6\n",
    "\n",
    "    * abcd\n",
    "\n",
    "    * ijkl\n",
    "\n",
    "    * abcd\n",
    "\n",
    "    * pqrs\n",
    "\n",
    "    * abcd\n",
    "\n",
    "    * ijkl\n",
    "\n",
    "    * Sample Output : 3\n",
    "\n",
    "                     * 3 2 1"
   ]
  },
  {
   "cell_type": "code",
   "execution_count": 4,
   "metadata": {},
   "outputs": [
    {
     "data": {
      "text/plain": [
       "{'abcd': 3, 'ijkl': 2, 'pqrs': 1}"
      ]
     },
     "execution_count": 4,
     "metadata": {},
     "output_type": "execute_result"
    }
   ],
   "source": [
    "def wordCount(wc, words):\n",
    "    j = 0\n",
    "    list1 = []\n",
    "    dict1 = {}\n",
    "    for i in range(0, len(words)):\n",
    "        if(words[i] == ' '):\n",
    "            list1.append(words[j:i])\n",
    "            j = i+1\n",
    "            \n",
    "    j = len(words)-1\n",
    "    for i in range(len(words)-1, -1, -1):\n",
    "        if(words[i] == ' '):\n",
    "            list1.append(words[i+1:j+1])\n",
    "            break\n",
    "\n",
    "    for i in list1:\n",
    "        count = 1\n",
    "        if(i in dict1):\n",
    "            dict1[i] += 1\n",
    "        else:\n",
    "            dict1[i] = 1\n",
    "    return dict1\n",
    "wordCount(6, 'abcd ijkl abcd pqrs abcd ijkl')"
   ]
  },
  {
   "cell_type": "markdown",
   "metadata": {},
   "source": [
    "### problem 3\n",
    "\n",
    "#### problem statement\n",
    "    Define a function to print the sequence of spiral pattern elements for a given N x N matrix.\n",
    "\n",
    "#### constraints\n",
    "\n",
    "####  Test cases\n",
    "    * spiralPattern([[1,2,3], [4,5,6], [7,8,9]]) -> 1 2 3 6 9 8 7 4 5"
   ]
  },
  {
   "cell_type": "code",
   "execution_count": 5,
   "metadata": {},
   "outputs": [
    {
     "name": "stdout",
     "output_type": "stream",
     "text": [
      "1 2 3 6 9 12 11 10 7 4 "
     ]
    }
   ],
   "source": [
    "li = [[1,2,3],[4,5,6],[7,8,9],[10,11,12]]\n",
    "def spiralMatrix(li):\n",
    "    for i in range(0,1):\n",
    "        for j in range(0,len(li[i])):\n",
    "            print(li[i][j], end = \" \")\n",
    "            \n",
    "    for i in range(1,3):\n",
    "        print(li[i][j], end = \" \")\n",
    "        \n",
    "    for i in range(3, 4):\n",
    "        for j in range(2, -1,-1):\n",
    "            print(li[i][j], end = \" \")\n",
    "            \n",
    "    for i in range(2,0,-1):\n",
    "        print(li[i][j], end = \" \")\n",
    "    \n",
    "    \n",
    "            \n",
    "    \n",
    "spiralMatrix(li)"
   ]
  },
  {
   "cell_type": "markdown",
   "metadata": {},
   "source": [
    "### problem 4\n",
    "\n",
    "#### problem statement\n",
    "     Design a Python script to determine the difference in date for given two dates in YYYY:MM:DD format(0 <= YYYY <= 9999, 1 <= MM <= 12, 1 <= DD <= 31) following the leap year rules. Return the total number of days existing between the two dates.\n",
    "\n",
    "#### constraints\n",
    "\n",
    "####  Test cases\n",
    "    * dateDifference('2019:05:10', '2019:05:01') -> 9\n",
    "    * dateDifference('0003:03:03', '0003:06:06') -> 95\n",
    "    * dateDifference('0001:03:27', '0001:06:03') -> 68"
   ]
  },
  {
   "cell_type": "code",
   "execution_count": 8,
   "metadata": {},
   "outputs": [
    {
     "name": "stdout",
     "output_type": "stream",
     "text": [
      "9\n",
      "95\n"
     ]
    }
   ],
   "source": [
    "def dateDifference(str1,str2):\n",
    "    y1 = int(str1[0:4])\n",
    "    m1 = int(str1[5:7])\n",
    "    d1 = int(str1[8:10])\n",
    "    y2 = int(str2[0:4])\n",
    "    m2 = int(str2[5:7])\n",
    "    d2 = int(str2[8:10])\n",
    "    dif = 0\n",
    "    dif += abs(y1-y2)*365\n",
    "    dif += abs(m1-m2)*30\n",
    "    dif += abs(d1-d2)\n",
    "    if y1!=y2:\n",
    "        for n in range(y1,y2+1):\n",
    "            if (n%4==0 and n%100!=0 or n%400==0):\n",
    "                dif += 1\n",
    "    if m1!=m2:\n",
    "        for n in range(m1,m2+1):\n",
    "            if (int(n) in [1,3,5,7,8,10,12]):\n",
    "                dif += 1\n",
    "            elif n==2:\n",
    "                dif -= 1\n",
    "    return dif\n",
    "print(dateDifference('2019:05:10', '2019:05:01'))\n",
    "print(dateDifference('0003:03:03', '0003:06:06'))"
   ]
  }
 ],
 "metadata": {
  "kernelspec": {
   "display_name": "Python 3",
   "language": "python",
   "name": "python3"
  },
  "language_info": {
   "codemirror_mode": {
    "name": "ipython",
    "version": 3
   },
   "file_extension": ".py",
   "mimetype": "text/x-python",
   "name": "python",
   "nbconvert_exporter": "python",
   "pygments_lexer": "ipython3",
   "version": "3.7.3"
  }
 },
 "nbformat": 4,
 "nbformat_minor": 2
}
