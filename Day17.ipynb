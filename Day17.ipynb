{
 "cells": [
  {
   "cell_type": "code",
   "execution_count": 8,
   "metadata": {},
   "outputs": [
    {
     "data": {
      "text/plain": [
       "'adbbadbvna\\nvefavdfadv\\nfafgassgf\\n'"
      ]
     },
     "execution_count": 8,
     "metadata": {},
     "output_type": "execute_result"
    }
   ],
   "source": [
    "f = open(\"kh.txt\",'r')\n",
    "f.read()"
   ]
  },
  {
   "cell_type": "code",
   "execution_count": 4,
   "metadata": {},
   "outputs": [
    {
     "data": {
      "text/plain": [
       "'welcome \\n'"
      ]
     },
     "execution_count": 4,
     "metadata": {},
     "output_type": "execute_result"
    }
   ],
   "source": [
    "f = open(\"kh.txt\",'r')\n",
    "f.readline()\n"
   ]
  },
  {
   "cell_type": "code",
   "execution_count": 6,
   "metadata": {},
   "outputs": [
    {
     "name": "stdout",
     "output_type": "stream",
     "text": [
      "welcome \n",
      "welcome\n",
      "welcome\n"
     ]
    }
   ],
   "source": [
    "f = open(\"kh.txt\",'r')\n",
    "print(f.read())\n"
   ]
  },
  {
   "cell_type": "code",
   "execution_count": 5,
   "metadata": {},
   "outputs": [
    {
     "data": {
      "text/plain": [
       "'welcome \\n'"
      ]
     },
     "execution_count": 5,
     "metadata": {},
     "output_type": "execute_result"
    }
   ],
   "source": [
    "f = open(\"kh.txt\",'r')\n",
    "f.readline()"
   ]
  },
  {
   "cell_type": "code",
   "execution_count": 7,
   "metadata": {},
   "outputs": [
    {
     "name": "stdout",
     "output_type": "stream",
     "text": [
      "welcome \n",
      "\n",
      "welcome\n",
      "\n",
      "welcome\n"
     ]
    }
   ],
   "source": [
    "f = open(\"kh.txt\",'r')\n",
    "for x in f:\n",
    "    print(x)\n"
   ]
  },
  {
   "cell_type": "markdown",
   "metadata": {},
   "source": [
    "### file handling in Python"
   ]
  },
  {
   "cell_type": "markdown",
   "metadata": {},
   "source": [
    "### reading from a text file\n"
   ]
  },
  {
   "cell_type": "code",
   "execution_count": 8,
   "metadata": {},
   "outputs": [
    {
     "data": {
      "text/plain": [
       "'welcome \\nwelcome\\nwelcome'"
      ]
     },
     "execution_count": 8,
     "metadata": {},
     "output_type": "execute_result"
    }
   ],
   "source": [
    "f = open(\"kh.txt\",'r')\n",
    "f.read()"
   ]
  },
  {
   "cell_type": "code",
   "execution_count": 9,
   "metadata": {},
   "outputs": [
    {
     "name": "stdout",
     "output_type": "stream",
     "text": [
      "welcome \n",
      "welcome\n",
      "welcome\n"
     ]
    }
   ],
   "source": [
    "f = open(\"kh.txt\",'r')\n",
    "print(f.read())\n",
    "f.close()"
   ]
  },
  {
   "cell_type": "markdown",
   "metadata": {},
   "source": [
    "### Random using random"
   ]
  },
  {
   "cell_type": "code",
   "execution_count": 49,
   "metadata": {},
   "outputs": [
    {
     "data": {
      "text/plain": [
       "35"
      ]
     },
     "execution_count": 49,
     "metadata": {},
     "output_type": "execute_result"
    }
   ],
   "source": [
    "import random\n",
    "random.randrange(11,99,2)\n"
   ]
  },
  {
   "cell_type": "code",
   "execution_count": 4,
   "metadata": {},
   "outputs": [
    {
     "data": {
      "text/plain": [
       "[5, 7, 9, 11, 13, 15, 17, 19]"
      ]
     },
     "execution_count": 4,
     "metadata": {},
     "output_type": "execute_result"
    }
   ],
   "source": [
    "import hpack\n",
    "hpack.prime(7)"
   ]
  },
  {
   "cell_type": "code",
   "execution_count": 12,
   "metadata": {},
   "outputs": [
    {
     "data": {
      "text/plain": [
       "[5, 7, 9, 11, 13, 15, 17, 19]"
      ]
     },
     "execution_count": 12,
     "metadata": {},
     "output_type": "execute_result"
    }
   ],
   "source": [
    "from hpack import prime\n",
    "prime(7)"
   ]
  },
  {
   "cell_type": "code",
   "execution_count": 10,
   "metadata": {},
   "outputs": [
    {
     "data": {
      "text/plain": [
       "[5, 7, 9, 11, 13, 15, 17, 19]"
      ]
     },
     "execution_count": 10,
     "metadata": {},
     "output_type": "execute_result"
    }
   ],
   "source": [
    "import hpack as h\n",
    "h.prime(7)"
   ]
  },
  {
   "cell_type": "code",
   "execution_count": 11,
   "metadata": {},
   "outputs": [
    {
     "data": {
      "text/plain": [
       "'hello'"
      ]
     },
     "execution_count": 11,
     "metadata": {},
     "output_type": "execute_result"
    }
   ],
   "source": [
    "import hello\n",
    "hello.hellopython()"
   ]
  },
  {
   "cell_type": "code",
   "execution_count": 13,
   "metadata": {},
   "outputs": [
    {
     "data": {
      "text/plain": [
       "'hello'"
      ]
     },
     "execution_count": 13,
     "metadata": {},
     "output_type": "execute_result"
    }
   ],
   "source": [
    "from hello import hellopython as x\n",
    "x()\n"
   ]
  },
  {
   "cell_type": "code",
   "execution_count": 1,
   "metadata": {},
   "outputs": [
    {
     "data": {
      "text/plain": [
       "'khr'"
      ]
     },
     "execution_count": 1,
     "metadata": {},
     "output_type": "execute_result"
    }
   ],
   "source": [
    "import hello\n",
    "hello.hellopython()\n",
    "hello.var\n"
   ]
  },
  {
   "cell_type": "code",
   "execution_count": 51,
   "metadata": {},
   "outputs": [
    {
     "data": {
      "text/plain": [
       "[6, 3, 1]"
      ]
     },
     "execution_count": 51,
     "metadata": {},
     "output_type": "execute_result"
    }
   ],
   "source": [
    "import random\n",
    "random.randrange(11,99,2)\n",
    "list=[1,2,3,4,5,6]\n",
    "random.choices(list,k=3)"
   ]
  },
  {
   "cell_type": "code",
   "execution_count": 1,
   "metadata": {},
   "outputs": [
    {
     "data": {
      "text/plain": [
       "[6, 4, 3]"
      ]
     },
     "execution_count": 1,
     "metadata": {},
     "output_type": "execute_result"
    }
   ],
   "source": [
    "import random\n",
    "list=[1,2,3,4,5,6]\n",
    "sorted(random.choices(list,k=3),reverse=True)"
   ]
  },
  {
   "cell_type": "markdown",
   "metadata": {},
   "source": [
    "### CSV File handling"
   ]
  },
  {
   "cell_type": "code",
   "execution_count": 11,
   "metadata": {},
   "outputs": [
    {
     "name": "stdout",
     "output_type": "stream",
     "text": [
      "1 Hammad Stirling hstirling0@google.com.au Male 233.93.166.161\n",
      "2 Lionel Yanin lyanin1@jigsy.com Male 242.64.178.201\n",
      "3 Brita Thirlaway bthirlaway2@yellowpages.com Female 186.10.204.60\n",
      "4 Adolphe Dominiak adominiak3@disqus.com Male 98.52.181.35\n",
      "5 Nehemiah Greenhaugh ngreenhaugh4@alibaba.com Male 71.126.58.8\n",
      "6 Wallas Mougenel wmougenel5@reddit.com Male 2.214.201.43\n",
      "7 Beatriz Brinded bbrinded6@w3.org Female 27.191.252.128\n",
      "8 Stefania Tapner stapner7@accuweather.com Female 17.244.208.192\n",
      "9 Erena Achrameev eachrameev8@webs.com Female 38.48.78.120\n",
      "10 Timofei Wesley twesley9@google.cn Male 186.48.72.179\n"
     ]
    }
   ],
   "source": [
    "import csv\n",
    "with open(\"D:\\demo.csv\",'r') as file:\n",
    "    reader=csv.DictReader(file)\n",
    "    for row in reader:\n",
    "        print(row['id'],row['first_name'],row['last_name'],row['email'],row['gender'],row['ip_address'])\n"
   ]
  },
  {
   "cell_type": "code",
   "execution_count": 12,
   "metadata": {
    "scrolled": false
   },
   "outputs": [
    {
     "name": "stdout",
     "output_type": "stream",
     "text": [
      "['id', 'first_name', 'last_name', 'email', 'gender', 'ip_address']\n",
      "['1', 'Hammad', 'Stirling', 'hstirling0@google.com.au', 'Male', '233.93.166.161']\n",
      "['2', 'Lionel', 'Yanin', 'lyanin1@jigsy.com', 'Male', '242.64.178.201']\n",
      "['3', 'Brita', 'Thirlaway', 'bthirlaway2@yellowpages.com', 'Female', '186.10.204.60']\n",
      "['4', 'Adolphe', 'Dominiak', 'adominiak3@disqus.com', 'Male', '98.52.181.35']\n",
      "['5', 'Nehemiah', 'Greenhaugh', 'ngreenhaugh4@alibaba.com', 'Male', '71.126.58.8']\n",
      "['6', 'Wallas', 'Mougenel', 'wmougenel5@reddit.com', 'Male', '2.214.201.43']\n",
      "['7', 'Beatriz', 'Brinded', 'bbrinded6@w3.org', 'Female', '27.191.252.128']\n",
      "['8', 'Stefania', 'Tapner', 'stapner7@accuweather.com', 'Female', '17.244.208.192']\n",
      "['9', 'Erena', 'Achrameev', 'eachrameev8@webs.com', 'Female', '38.48.78.120']\n",
      "['10', 'Timofei', 'Wesley', 'twesley9@google.cn', 'Male', '186.48.72.179']\n"
     ]
    }
   ],
   "source": [
    "import csv\n",
    "with open(\"D:\\demo.csv\",'r') as file:\n",
    "    reader=csv.reader(file)\n",
    "    for column in reader:\n",
    "        print(column)\n"
   ]
  },
  {
   "cell_type": "code",
   "execution_count": 13,
   "metadata": {},
   "outputs": [
    {
     "name": "stdout",
     "output_type": "stream",
     "text": [
      "OrderedDict([('id', '10'), ('first_name', 'Timofei'), ('last_name', 'Wesley'), ('email', 'twesley9@google.cn'), ('gender', 'Male'), ('ip_address', '186.48.72.179')])\n",
      "OrderedDict([('id', '10'), ('first_name', 'Timofei'), ('last_name', 'Wesley'), ('email', 'twesley9@google.cn'), ('gender', 'Male'), ('ip_address', '186.48.72.179')])\n",
      "OrderedDict([('id', '10'), ('first_name', 'Timofei'), ('last_name', 'Wesley'), ('email', 'twesley9@google.cn'), ('gender', 'Male'), ('ip_address', '186.48.72.179')])\n",
      "OrderedDict([('id', '10'), ('first_name', 'Timofei'), ('last_name', 'Wesley'), ('email', 'twesley9@google.cn'), ('gender', 'Male'), ('ip_address', '186.48.72.179')])\n",
      "OrderedDict([('id', '10'), ('first_name', 'Timofei'), ('last_name', 'Wesley'), ('email', 'twesley9@google.cn'), ('gender', 'Male'), ('ip_address', '186.48.72.179')])\n",
      "OrderedDict([('id', '10'), ('first_name', 'Timofei'), ('last_name', 'Wesley'), ('email', 'twesley9@google.cn'), ('gender', 'Male'), ('ip_address', '186.48.72.179')])\n",
      "OrderedDict([('id', '10'), ('first_name', 'Timofei'), ('last_name', 'Wesley'), ('email', 'twesley9@google.cn'), ('gender', 'Male'), ('ip_address', '186.48.72.179')])\n",
      "OrderedDict([('id', '10'), ('first_name', 'Timofei'), ('last_name', 'Wesley'), ('email', 'twesley9@google.cn'), ('gender', 'Male'), ('ip_address', '186.48.72.179')])\n",
      "OrderedDict([('id', '10'), ('first_name', 'Timofei'), ('last_name', 'Wesley'), ('email', 'twesley9@google.cn'), ('gender', 'Male'), ('ip_address', '186.48.72.179')])\n",
      "OrderedDict([('id', '10'), ('first_name', 'Timofei'), ('last_name', 'Wesley'), ('email', 'twesley9@google.cn'), ('gender', 'Male'), ('ip_address', '186.48.72.179')])\n",
      "OrderedDict([('id', '10'), ('first_name', 'Timofei'), ('last_name', 'Wesley'), ('email', 'twesley9@google.cn'), ('gender', 'Male'), ('ip_address', '186.48.72.179')])\n"
     ]
    }
   ],
   "source": [
    "import csv\n",
    "with open(\"D:\\demo.csv\",'r') as file:\n",
    "    reader=csv.reader(file)\n",
    "    for column in reader:\n",
    "        print(row)\n"
   ]
  },
  {
   "cell_type": "code",
   "execution_count": 15,
   "metadata": {},
   "outputs": [
    {
     "name": "stdout",
     "output_type": "stream",
     "text": [
      "1 Hammad\n",
      "2 Lionel\n",
      "3 Brita\n",
      "4 Adolphe\n",
      "5 Nehemiah\n",
      "6 Wallas\n",
      "7 Beatriz\n",
      "8 Stefania\n",
      "9 Erena\n",
      "10 Timofei\n"
     ]
    }
   ],
   "source": [
    "import csv\n",
    "with open(\"D:\\demo.csv\",'r') as file:\n",
    "    reader=csv.DictReader(file)\n",
    "    for row in reader:\n",
    "        print(row['id'],row['first_name'])\n"
   ]
  },
  {
   "cell_type": "code",
   "execution_count": 27,
   "metadata": {},
   "outputs": [
    {
     "name": "stdout",
     "output_type": "stream",
     "text": [
      "id first_name last_name\n",
      "1 Hammad Stirling\n",
      "2 Lionel Yanin\n",
      "3 Brita Thirlaway\n",
      "4 Adolphe Dominiak\n",
      "5 Nehemiah Greenhaugh\n",
      "6 Wallas Mougenel\n",
      "7 Beatriz Brinded\n",
      "8 Stefania Tapner\n",
      "9 Erena Achrameev\n",
      "10 Timofei Wesley\n",
      "11 abc xyz\n"
     ]
    },
    {
     "ename": "IndexError",
     "evalue": "list index out of range",
     "output_type": "error",
     "traceback": [
      "\u001b[1;31m---------------------------------------------------------------------------\u001b[0m",
      "\u001b[1;31mIndexError\u001b[0m                                Traceback (most recent call last)",
      "\u001b[1;32m<ipython-input-27-8edaea931cec>\u001b[0m in \u001b[0;36m<module>\u001b[1;34m\u001b[0m\n\u001b[0;32m      3\u001b[0m     \u001b[0mreader\u001b[0m\u001b[1;33m=\u001b[0m\u001b[0mcsv\u001b[0m\u001b[1;33m.\u001b[0m\u001b[0mreader\u001b[0m\u001b[1;33m(\u001b[0m\u001b[0mcsvfile\u001b[0m\u001b[1;33m,\u001b[0m\u001b[0mdelimiter\u001b[0m\u001b[1;33m=\u001b[0m\u001b[1;34m','\u001b[0m\u001b[1;33m)\u001b[0m\u001b[1;33m\u001b[0m\u001b[1;33m\u001b[0m\u001b[0m\n\u001b[0;32m      4\u001b[0m     \u001b[1;32mfor\u001b[0m \u001b[0mrow\u001b[0m \u001b[1;32min\u001b[0m \u001b[0mreader\u001b[0m\u001b[1;33m:\u001b[0m\u001b[1;33m\u001b[0m\u001b[1;33m\u001b[0m\u001b[0m\n\u001b[1;32m----> 5\u001b[1;33m         \u001b[0mprint\u001b[0m\u001b[1;33m(\u001b[0m\u001b[0mrow\u001b[0m\u001b[1;33m[\u001b[0m\u001b[1;36m0\u001b[0m\u001b[1;33m]\u001b[0m\u001b[1;33m,\u001b[0m\u001b[0mrow\u001b[0m\u001b[1;33m[\u001b[0m\u001b[1;36m1\u001b[0m\u001b[1;33m]\u001b[0m\u001b[1;33m,\u001b[0m\u001b[0mrow\u001b[0m\u001b[1;33m[\u001b[0m\u001b[1;36m2\u001b[0m\u001b[1;33m]\u001b[0m\u001b[1;33m)\u001b[0m\u001b[1;33m\u001b[0m\u001b[1;33m\u001b[0m\u001b[0m\n\u001b[0m",
      "\u001b[1;31mIndexError\u001b[0m: list index out of range"
     ]
    }
   ],
   "source": [
    "import csv\n",
    "with open(\"D:\\demo.csv\",'r') as csvfile:\n",
    "    reader=csv.reader(csvfile,delimiter=',')\n",
    "    for row in reader:\n",
    "        print(row[0],row[1],row[2])"
   ]
  },
  {
   "cell_type": "code",
   "execution_count": 1,
   "metadata": {},
   "outputs": [],
   "source": [
    "import csv\n",
    "with open(\"D:\\demo.csv\",'a') as csvfile:\n",
    "    writer=csv.writer(csvfile)\n",
    "    row=['11','abc','xyz','abc@gitam.edu','184.20.221.167']\n",
    "    writer.writerow(row)"
   ]
  },
  {
   "cell_type": "code",
   "execution_count": 15,
   "metadata": {},
   "outputs": [
    {
     "data": {
      "image/png": "[encoded data removed]",
      "text/plain": [
       "<Figure size 640x480 with 1 Axes>"
      ]
     },
     "metadata": {},
     "output_type": "display_data"
    }
   ],
   "source": [
    "import matplotlib.pyplot as plt; plt.rcdefaults()\n",
    "import numpy as np\n",
    "import matplotlib.pyplot as plt\n",
    " \n",
    "objects = ('TDP', 'YSRCP', 'JSP', 'CPI', 'CPM', 'OTHERS') \n",
    "y_pos = np.arange(len(objects))\n",
    "performance = [105,67,5,1,1,1]\n",
    " \n",
    "plt.bar(y_pos, performance, align='center', alpha=1.0,color=('yellow','green','orange','red','red','blue'))\n",
    "plt.xticks(y_pos, objects)\n",
    "plt.ylabel('seats')\n",
    "plt.title('Parties')\n",
    " \n",
    "plt.show()"
   ]
  },
  {
   "cell_type": "code",
   "execution_count": null,
   "metadata": {},
   "outputs": [],
   "source": []
  }
 ],
 "metadata": {
  "kernelspec": {
   "display_name": "Python 3",
   "language": "python",
   "name": "python3"
  },
  "language_info": {
   "codemirror_mode": {
    "name": "ipython",
    "version": 3
   },
   "file_extension": ".py",
   "mimetype": "text/x-python",
   "name": "python",
   "nbconvert_exporter": "python",
   "pygments_lexer": "ipython3",
   "version": "3.7.3"
  }
 },
 "nbformat": 4,
 "nbformat_minor": 2
}
