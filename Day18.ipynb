{
 "cells": [
  {
   "cell_type": "markdown",
   "metadata": {},
   "source": [
    "### Broad casting\n"
   ]
  },
  {
   "cell_type": "code",
   "execution_count": 2,
   "metadata": {},
   "outputs": [
    {
     "name": "stdout",
     "output_type": "stream",
     "text": [
      "matrix A\n",
      " [0 1 2]\n",
      "matrix B\n",
      " [5 5 5]\n",
      "addition\n",
      " [5 6 7]\n",
      "addition\n",
      " [5 6 7]\n"
     ]
    }
   ],
   "source": [
    "import numpy as np\n",
    "a=np.array([0,1,2])\n",
    "b=np.array([5,5,5])\n",
    "print(\"matrix A\\n\",a)\n",
    "print(\"matrix B\\n\",b)\n",
    "print(\"addition\\n\",a+b)\n",
    "print(\"addition\\n\",a+5)"
   ]
  },
  {
   "cell_type": "code",
   "execution_count": 8,
   "metadata": {},
   "outputs": [
    {
     "name": "stdout",
     "output_type": "stream",
     "text": [
      "matrix A\n",
      " [[0 1 2]\n",
      " [4 5 6]]\n",
      "matrix B\n",
      " [[5 5 5]\n",
      " [2 3 4]]\n",
      "addition\n",
      " [[ 5  6  7]\n",
      " [ 6  8 10]]\n",
      "addition\n",
      " [[ 5  6  7]\n",
      " [ 9 10 11]]\n"
     ]
    }
   ],
   "source": [
    "import numpy as np\n",
    "a=np.array([[0,1,2],[4,5,6]])\n",
    "b=np.array([[5,5,5],[2,3,4]])\n",
    "print(\"matrix A\\n\",a)\n",
    "print(\"matrix B\\n\",b)\n",
    "print(\"addition\\n\",a+b)\n",
    "print(\"addition\\n\",a+5)"
   ]
  },
  {
   "cell_type": "code",
   "execution_count": 12,
   "metadata": {},
   "outputs": [
    {
     "name": "stdout",
     "output_type": "stream",
     "text": [
      "matrix A\n",
      " [[0 1 2]\n",
      " [4 5 6]]\n",
      "matrix B\n",
      " [[5 5 5]\n",
      " [2 3 4]]\n",
      "addition\n",
      " [[ 5  6  7]\n",
      " [ 6  8 10]]\n",
      "addition\n",
      " [[ 5  6  7]\n",
      " [ 9 10 11]]\n",
      "addition\n",
      " (2, 3)\n"
     ]
    }
   ],
   "source": [
    "import numpy as np\n",
    "a=np.array([[0,1,2],[4,5,6]])\n",
    "b=np.array([[5,5,5],[2,3,4]])\n",
    "c=np.array([2,3,4])\n",
    "print(\"matrix A\\n\",a)\n",
    "print(\"matrix B\\n\",b)\n",
    "print(\"addition\\n\",a+b)\n",
    "print(\"addition\\n\",a+5)\n",
    "print(\"addition\\n\",a.shape)"
   ]
  },
  {
   "cell_type": "code",
   "execution_count": 10,
   "metadata": {},
   "outputs": [
    {
     "name": "stdout",
     "output_type": "stream",
     "text": [
      "matrin\n",
      " [[1. 1. 1.]\n",
      " [1. 1. 1.]\n",
      " [1. 1. 1.]]\n"
     ]
    }
   ],
   "source": [
    "import numpy as np\n",
    "M=np.ones((3,3))\n",
    "print(\"matrin\\n\",M)"
   ]
  },
  {
   "cell_type": "code",
   "execution_count": 15,
   "metadata": {},
   "outputs": [
    {
     "name": "stdout",
     "output_type": "stream",
     "text": [
      "matrix\n",
      " [[0. 0. 0. 0.]\n",
      " [0. 0. 0. 0.]\n",
      " [0. 0. 0. 0.]]\n"
     ]
    }
   ],
   "source": [
    "import numpy as np\n",
    "M=np.zeros((3,4))\n",
    "print(\"matrix\\n\",M)"
   ]
  },
  {
   "cell_type": "code",
   "execution_count": 16,
   "metadata": {},
   "outputs": [
    {
     "name": "stdout",
     "output_type": "stream",
     "text": [
      "matrix\n",
      " [[1. 1. 1. 1.]\n",
      " [1. 1. 1. 1.]\n",
      " [1. 1. 1. 1.]]\n",
      "0.0005917860000863584\n"
     ]
    }
   ],
   "source": [
    "import timeit\n",
    "import numpy\n",
    "start=timeit.default_timer()\n",
    "m=numpy.ones((3,4))\n",
    "print(\"matrix\\n\",m)\n",
    "end=timeit.default_timer()\n",
    "print(end-start)\n",
    "\n",
    "\n"
   ]
  }
 ],
 "metadata": {
  "kernelspec": {
   "display_name": "Python 3",
   "language": "python",
   "name": "python3"
  },
  "language_info": {
   "codemirror_mode": {
    "name": "ipython",
    "version": 3
   },
   "file_extension": ".py",
   "mimetype": "text/x-python",
   "name": "python",
   "nbconvert_exporter": "python",
   "pygments_lexer": "ipython3",
   "version": "3.7.3"
  }
 },
 "nbformat": 4,
 "nbformat_minor": 2
}
