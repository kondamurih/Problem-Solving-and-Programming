{
 "cells": [
  {
   "cell_type": "markdown",
   "metadata": {},
   "source": [
    "# Problem solving and programming\n",
    "## Day no - 13\n",
    "## Date- 11-May-2019"
   ]
  },
  {
   "cell_type": "markdown",
   "metadata": {},
   "source": [
    "### Day Outcomes:\n",
    "    * problems solved"
   ]
  },
  {
   "cell_type": "markdown",
   "metadata": {},
   "source": [
    "### problem 1\n",
    "\n",
    "#### problem statement\n",
    "  Define a function to check if a given year is a leap year. Returns a boolean value\n",
    "\n",
    "#### constraints\n",
    "\n",
    "####  Test cases\n",
    "    * 2000 -> True\n",
    "    * 1900 -> False\n",
    "    * 2012 -> True\n",
    "    * 2020 -> True\n",
    "    * 0200 -> False"
   ]
  },
  {
   "cell_type": "code",
   "execution_count": 5,
   "metadata": {},
   "outputs": [
    {
     "name": "stdout",
     "output_type": "stream",
     "text": [
      "True\n",
      "False\n",
      "True\n",
      "True\n",
      "False\n"
     ]
    }
   ],
   "source": [
    "def leapyear(n):\n",
    "    if(n%400==0 or n%100!=0):\n",
    "        return True\n",
    "    elif(n%4!=0):\n",
    "        return False\n",
    "    else:\n",
    "        return False\n",
    "print(leapyear(2000))\n",
    "print(leapyear(1900))\n",
    "print(leapyear(2012))\n",
    "print(leapyear(2020))\n",
    "print(leapyear(200))"
   ]
  },
  {
   "cell_type": "markdown",
   "metadata": {},
   "source": [
    "### problem 2\n",
    "#### problem statement\n",
    "  Define a function to convert a decimal number to the corresponding binary number\n",
    "\n",
    "#### constraints\n",
    "####  Test cases\n",
    "    * decimalToBinary(15) -> 1111\n",
    "    * decimalToBinary(1) -> 1"
   ]
  },
  {
   "cell_type": "code",
   "execution_count": 9,
   "metadata": {},
   "outputs": [
    {
     "name": "stdout",
     "output_type": "stream",
     "text": [
      "1 1 1 "
     ]
    }
   ],
   "source": [
    "def decimalTobinary(n):\n",
    "    if n>1:\n",
    "        decimalTobinary(n//2)\n",
    "    print(n%2, end=' ')\n",
    "decimalTobinary(7) "
   ]
  },
  {
   "cell_type": "markdown",
   "metadata": {},
   "source": [
    "### problem 3\n",
    "\n",
    "#### problem statement\n",
    "    Define a function to convert a binary number to the corresponding decimal number\n",
    "\n",
    "#### constraints \n",
    "\n",
    "####  Test cases\n",
    "    * binaryToDecimal(1100) -> 12\n",
    "    * binaryToDecimal(1010) -> 10\n",
    "    * binaryToDecimal(111000) -> 56"
   ]
  },
  {
   "cell_type": "code",
   "execution_count": 2,
   "metadata": {},
   "outputs": [
    {
     "name": "stdout",
     "output_type": "stream",
     "text": [
      "12\n",
      "10\n",
      "56\n"
     ]
    }
   ],
   "source": [
    "def binaryTodecimal(n):\n",
    "    num=n\n",
    "    dec=0\n",
    "    base=1\n",
    "    temp=num\n",
    "    while(temp):\n",
    "        rem=temp%10\n",
    "        temp=temp//10\n",
    "        dec=dec+base*rem\n",
    "        base=base*2\n",
    "    return dec\n",
    "print(binaryTodecimal(1100))\n",
    "print(binaryTodecimal(1010))\n",
    "print(binaryTodecimal(111000))"
   ]
  },
  {
   "cell_type": "markdown",
   "metadata": {},
   "source": [
    "### problem 4\n",
    "\n",
    "#### problem statement\n",
    "    Define a function to merge the characters of two strings alternatively. The remaining characters\n",
    "\n",
    "     of the longer string are printed in the same order at the end.\n",
    "\n",
    "#### constraints\n",
    "\n",
    "####  Test cases\n",
    "    * mergeString('abcd', 'abcd') -> 'aabbccdd'\n",
    "    * mergeString('abc', '123456') -> 'a1b2c3456'\n",
    "    * mergeString('0', '123456') -> '0123456'\n"
   ]
  },
  {
   "cell_type": "code",
   "execution_count": 4,
   "metadata": {},
   "outputs": [
    {
     "name": "stdout",
     "output_type": "stream",
     "text": [
      "aabbccdd\n",
      "a1b2c356\n",
      "0 23456\n"
     ]
    }
   ],
   "source": [
    "def mergeString(m,n):\n",
    "    x=len(m)\n",
    "    y=len(n)\n",
    "    z=''\n",
    "    if(x>y):\n",
    "        for i in range(y):\n",
    "            z=z+m[i]\n",
    "            z=z+n[i]\n",
    "        for i in range(y+1,x):\n",
    "            z=z+m[i]\n",
    "    elif(x<y):\n",
    "        for i in range(x):\n",
    "            z=z+m[i]\n",
    "            z=z+n[i]\n",
    "        for i in range(x+1,y):\n",
    "            z=z+n[i]\n",
    "    else:\n",
    "        for i in range(x):\n",
    "            z=z+m[i]\n",
    "            z=z+n[i]\n",
    "    return z        \n",
    "print(mergeString('abcd', 'abcd'))\n",
    "print(mergeString('abc', '123456'))\n",
    "print(mergeString('0',' 123456'))"
   ]
  },
  {
   "cell_type": "markdown",
   "metadata": {},
   "source": [
    "### problem 5\n",
    "\n",
    "#### problem statement\n",
    "    Define a function to identity the number of times a substring is repeating in a given string\n",
    "\n",
    "#### constraints\n",
    "\n",
    "####  Test cases\n",
    "    * substringCount('str', 'substr') -> 1\n",
    "    * substringCount('1234567891122334455', '3') -> 3\n",
    "    * substringCount('abccddccc', 'cc') -> 3\n",
    "    * substringCount('aaaaaaa', 'aaa' ) -> 5"
   ]
  },
  {
   "cell_type": "code",
   "execution_count": 6,
   "metadata": {},
   "outputs": [
    {
     "name": "stdout",
     "output_type": "stream",
     "text": [
      "1\n",
      "3\n",
      "3\n",
      "5\n"
     ]
    }
   ],
   "source": [
    "def substringCount(str1,str2):\n",
    "    count=0\n",
    "    if len(str1)<= len(str2):\n",
    "        length = len(str1)\n",
    "        mstring = str2\n",
    "        sstring = str1\n",
    "    else:\n",
    "        length = len(str2)\n",
    "        mstring = str1\n",
    "        sstring = str2\n",
    "    for i in range(0,len(mstring)):\n",
    "        if(mstring[i:length] == sstring):\n",
    "            count += 1\n",
    "        length += 1\n",
    "    return count\n",
    "\n",
    "print(substringCount('str','substr'))\n",
    "print(substringCount('1234567891122334455', '3'))\n",
    "print(substringCount('abccddccc', 'cc'))\n",
    "print(substringCount('aaaaaaa', 'aaa' ))"
   ]
  }
 ],
 "metadata": {
  "kernelspec": {
   "display_name": "Python 3",
   "language": "python",
   "name": "python3"
  },
  "language_info": {
   "codemirror_mode": {
    "name": "ipython",
    "version": 3
   },
   "file_extension": ".py",
   "mimetype": "text/x-python",
   "name": "python",
   "nbconvert_exporter": "python",
   "pygments_lexer": "ipython3",
   "version": "3.7.3"
  }
 },
 "nbformat": 4,
 "nbformat_minor": 2
}
