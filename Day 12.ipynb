{
 "cells": [
  {
   "cell_type": "markdown",
   "metadata": {},
   "source": [
    "# Problem solving and programming \n",
    "\n",
    "## Day no - 12\n",
    "\n",
    "## Date- 10/5/2019"
   ]
  },
  {
   "cell_type": "markdown",
   "metadata": {},
   "source": [
    "### Day outcomes\n",
    "    *Introduction of recursion in programming\n",
    "    "
   ]
  },
  {
   "cell_type": "markdown",
   "metadata": {},
   "source": [
    "### problem 1\n",
    "\n",
    "#### problem statement\n",
    "\n",
    " Procedure to print the list of factors of a given number.\n",
    "\n",
    "#### constraints\n",
    "\n",
    "####  Test cases\n",
    "    * print_factors(18) -> 1,2,3,6,9,18"
   ]
  },
  {
   "cell_type": "code",
   "execution_count": 2,
   "metadata": {},
   "outputs": [
    {
     "name": "stdout",
     "output_type": "stream",
     "text": [
      "1\n",
      "2\n",
      "3\n",
      "6\n",
      "9\n",
      "18\n"
     ]
    }
   ],
   "source": [
    "def print_factors(x):\n",
    "    for i in range(1, x + 1):\n",
    "        if x % i == 0:\n",
    "            print(i)\n",
    "print_factors(18)"
   ]
  },
  {
   "cell_type": "markdown",
   "metadata": {},
   "source": [
    "### problem 2\n",
    "\n",
    "#### problem statement\n",
    "\n",
    " Design a procedure calculate the maximum, minimum and average of N numbers\n",
    "\n",
    "#### constraints\n",
    "\n",
    "####  Test cases\n",
    "    * Data(a[65,78,94,1,99]) -> Max=94,Min=-99,Avg=27.8"
   ]
  },
  {
   "cell_type": "code",
   "execution_count": 3,
   "metadata": {},
   "outputs": [
    {
     "name": "stdout",
     "output_type": "stream",
     "text": [
      "94\n",
      "-99\n",
      "27.8\n"
     ]
    }
   ],
   "source": [
    "a=[65,78,94,1,-99]\n",
    "print(max(a))\n",
    "print(min(a))\n",
    "print((sum(a))/len(a))"
   ]
  },
  {
   "cell_type": "markdown",
   "metadata": {},
   "source": [
    "## Recurssion"
   ]
  },
  {
   "cell_type": "markdown",
   "metadata": {},
   "source": [
    "### problem 3\n",
    "\n",
    "#### problem statement\n",
    " \n",
    " Power of a number\n",
    "\n",
    "#### constraints\n",
    "\n",
    "####  Test cases\n",
    "    * recursivepower(5,45) ->28421709430404007434844970703125"
   ]
  },
  {
   "cell_type": "code",
   "execution_count": 4,
   "metadata": {},
   "outputs": [
    {
     "data": {
      "text/plain": [
       "28421709430404007434844970703125"
      ]
     },
     "execution_count": 4,
     "metadata": {},
     "output_type": "execute_result"
    }
   ],
   "source": [
    "def recursivepower(n, r):\n",
    "    if r == 1:\n",
    "        return n\n",
    "    else:\n",
    "        return recursivepower(n, r-1) * n\n",
    "\n",
    "recursivepower(5,45)"
   ]
  },
  {
   "cell_type": "markdown",
   "metadata": {},
   "source": [
    "### problem 4\n",
    "\n",
    "#### problem statement\n",
    "\n",
    "Factorial\n",
    "\n",
    "#### constraints\n",
    "\n",
    "####  Test cases\n",
    "    * recursivefactorial(5) -> 120\n",
    "    "
   ]
  },
  {
   "cell_type": "code",
   "execution_count": 5,
   "metadata": {},
   "outputs": [
    {
     "data": {
      "text/plain": [
       "120"
      ]
     },
     "execution_count": 5,
     "metadata": {},
     "output_type": "execute_result"
    }
   ],
   "source": [
    "def recursivefactorial(n):\n",
    "    if n==1:\n",
    "        return n\n",
    "    else:\n",
    "        return recursivefactorial(n-1)*n\n",
    "recursivefactorial(5)"
   ]
  },
  {
   "cell_type": "markdown",
   "metadata": {},
   "source": [
    "### problem 5\n",
    "\n",
    "#### problem statement\n",
    "    \n",
    "    GCD\n",
    "\n",
    "#### constraints\n",
    "\n",
    "####  Test cases\n",
    "   "
   ]
  },
  {
   "cell_type": "markdown",
   "metadata": {},
   "source": [
    "# recursive gcd"
   ]
  },
  {
   "cell_type": "code",
   "execution_count": 15,
   "metadata": {},
   "outputs": [
    {
     "data": {
      "text/plain": [
       "5"
      ]
     },
     "execution_count": 15,
     "metadata": {},
     "output_type": "execute_result"
    }
   ],
   "source": [
    "def gcdrecursive(a,b):\n",
    "    if b % a == 0:\n",
    "        return a\n",
    "    else:\n",
    "        return gcdrecursive(b % a,a)\n",
    "gcdrecursive(5,15)"
   ]
  },
  {
   "cell_type": "markdown",
   "metadata": {},
   "source": [
    "# iterative gcd"
   ]
  },
  {
   "cell_type": "code",
   "execution_count": 14,
   "metadata": {},
   "outputs": [
    {
     "data": {
      "text/plain": [
       "3"
      ]
     },
     "execution_count": 14,
     "metadata": {},
     "output_type": "execute_result"
    }
   ],
   "source": [
    "def gcditerative(a,b):\n",
    "    \n",
    "    r=b % a\n",
    "    if(r==0):\n",
    "        return a\n",
    "    while r !=0:\n",
    "        r=b%a\n",
    "        b=a\n",
    "        a=r\n",
    "        \n",
    "    return b\n",
    "gcditerative(12,39)"
   ]
  },
  {
   "cell_type": "markdown",
   "metadata": {},
   "source": [
    "### problem 6\n",
    "\n",
    "#### problem statement\n",
    "\n",
    " To implent towers of hanoi using recursion\n",
    "\n",
    "#### constraints\n",
    "\n",
    "####  Test cases\n",
    "    * towerofhanoi(3,'A','B','C') ->\n",
    "* move 1 disk from A to C\n",
    "* move 2 disk from A to B\n",
    "* move 1 disk from C to B\n",
    "* move 3 disk from A to C\n",
    "* move 1 disk from B to A\n",
    "* move 2 disk from B to C\n",
    "* move 1 disk from A to C"
   ]
  },
  {
   "cell_type": "code",
   "execution_count": 1,
   "metadata": {},
   "outputs": [
    {
     "name": "stdout",
     "output_type": "stream",
     "text": [
      "move 1 disk from A to C\n",
      "move 2 disk from A to B\n",
      "move 1 disk from C to B\n",
      "move 3 disk from A to C\n",
      "move 1 disk from B to A\n",
      "move 2 disk from B to C\n",
      "move 1 disk from A to C\n"
     ]
    }
   ],
   "source": [
    "def towerofhanoi(n,source,temp,dest):\n",
    "    if n ==1:\n",
    "        print('move',n,'disk from',source,'to',dest)\n",
    "        return\n",
    "    else:\n",
    "        towerofhanoi(n-1,source,dest,temp)\n",
    "        print('move',n,'disk from',source,'to',dest)\n",
    "        towerofhanoi(n-1,temp,source,dest)\n",
    "        return\n",
    "towerofhanoi(3,'A','B','C')    \n",
    "    "
   ]
  },
  {
   "cell_type": "markdown",
   "metadata": {},
   "source": [
    "### problem 7\n",
    "\n",
    "#### problem statement\n",
    " Generating the nth Fibonacci number\n",
    "\n",
    "#### constraints\n",
    "\n",
    "####  Test cases\n",
    "  * recursivefibonaci(3) -> 2"
   ]
  },
  {
   "cell_type": "code",
   "execution_count": 19,
   "metadata": {},
   "outputs": [
    {
     "data": {
      "text/plain": [
       "2"
      ]
     },
     "execution_count": 19,
     "metadata": {},
     "output_type": "execute_result"
    }
   ],
   "source": [
    "def recursivefibonaci(n):\n",
    "    if n==0:\n",
    "        return 0\n",
    "    elif n==1:\n",
    "        return 1\n",
    "    elif n<0:\n",
    "        print('not valid')\n",
    "    elif n==2:\n",
    "        return 1\n",
    "    else:\n",
    "        return recursivefibonaci(n-1)+recursivefibonaci(n-2)\n",
    "recursivefibonaci(3)        "
   ]
  }
 ],
 "metadata": {
  "kernelspec": {
   "display_name": "Python 3",
   "language": "python",
   "name": "python3"
  },
  "language_info": {
   "codemirror_mode": {
    "name": "ipython",
    "version": 3
   },
   "file_extension": ".py",
   "mimetype": "text/x-python",
   "name": "python",
   "nbconvert_exporter": "python",
   "pygments_lexer": "ipython3",
   "version": "3.7.3"
  }
 },
 "nbformat": 4,
 "nbformat_minor": 2
}
